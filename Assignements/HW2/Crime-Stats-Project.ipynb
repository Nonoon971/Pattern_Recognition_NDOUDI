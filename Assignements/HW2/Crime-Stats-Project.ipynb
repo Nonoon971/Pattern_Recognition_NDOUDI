{
 "cells": [
  {
   "cell_type": "markdown",
   "id": "55e6b918-afac-43e8-b338-43f8ac64014f",
   "metadata": {},
   "source": [
    "##  Deep Neural Networks Project\n",
    "_<span style=\"float: right\">Norine NDOUDI</span>_"
   ]
  },
  {
   "cell_type": "markdown",
   "id": "1a8e066d-2849-4a6e-9c71-bb98d605ae07",
   "metadata": {},
   "source": [
    "In this project, you will be working with a real-world data set from the Las Vegas Metropolitan Police Department. The dataset  contains information about the reported incidents, including the time and location of the crime, type of incident, and number of persons involved. "
   ]
  },
  {
   "cell_type": "markdown",
   "id": "9e87fac7-352a-4c39-b087-76254b5e2743",
   "metadata": {},
   "source": [
    "The dataset is downloaded from the public docket at: \n",
    "https://opendata-lvmpd.hub.arcgis.com\n",
    "\n",
    "let's read the csv file and transform the data:"
   ]
  },
  {
   "cell_type": "code",
   "execution_count": 11,
   "id": "637211a4-582f-426b-a127-c3f284463f35",
   "metadata": {},
   "outputs": [],
   "source": [
    "import torch\n",
    "import pandas as pd\n",
    "from torch.utils.data import DataLoader, TensorDataset\n",
    "from torch.utils.data.dataset import random_split\n",
    "import matplotlib.pyplot as plt\n",
    "import seaborn as sns\n",
    "import numpy as np"
   ]
  },
  {
   "cell_type": "code",
   "execution_count": 2,
   "id": "bcf40b02-80b6-4abc-a662-f7ed50a65181",
   "metadata": {},
   "outputs": [],
   "source": [
    "orig_df = pd.read_csv('../../datasets/LVMPD-Stats.csv', parse_dates=['ReportedOn'])"
   ]
  },
  {
   "cell_type": "code",
   "execution_count": 3,
   "id": "e1ca1d15-3955-4971-a3c4-c1a73b62edda",
   "metadata": {},
   "outputs": [],
   "source": [
    "df = pd.read_csv('../../datasets/LVMPD-Stats.csv', parse_dates=['ReportedOn'],\n",
    "                 usecols = ['X', 'Y', 'ReportedOn',\n",
    "                            'Area_Command','NIBRSOffenseCode',\n",
    "                            'VictimCount' ] )\n",
    "\n",
    "df['DayOfWeek'] = df['ReportedOn'].dt.day_name()\n",
    "df['Time' ]     = df['ReportedOn'].dt.hour\n",
    "df.drop(columns = 'ReportedOn', inplace=True)"
   ]
  },
  {
   "cell_type": "code",
   "execution_count": 4,
   "id": "3ddc413d-ba3f-4204-bc18-7fdd4de8d221",
   "metadata": {},
   "outputs": [],
   "source": [
    "\n",
    "df['X'] = df['X'] \n",
    "df['Y'] = df['Y'] \n",
    "df['Time'] = pd.factorize(df['Time'])[0]\n",
    "df['DayOfWeek'] = pd.factorize(df['DayOfWeek'])[0]\n",
    "df.Area_Command = pd.factorize(df['Area_Command'])[0]\n",
    "df.VictimCount = pd.factorize(df['VictimCount'])[0]\n",
    "df.NIBRSOffenseCode = pd.factorize(df['NIBRSOffenseCode'])[0]\n",
    "df.dropna(inplace=True)"
   ]
  },
  {
   "cell_type": "code",
   "execution_count": 5,
   "id": "a9c6162f-9686-4195-818d-950a6368c686",
   "metadata": {},
   "outputs": [],
   "source": [
    "df= df[['X', 'Y', 'Area_Command', 'NIBRSOffenseCode',\n",
    "       'DayOfWeek', 'Time','VictimCount']]"
   ]
  },
  {
   "cell_type": "code",
   "execution_count": 6,
   "id": "a90bc78a-6d1b-4fe4-a1b0-8333aec1c851",
   "metadata": {},
   "outputs": [
    {
     "data": {
      "text/plain": [
       "(275, 7)"
      ]
     },
     "execution_count": 6,
     "metadata": {},
     "output_type": "execute_result"
    }
   ],
   "source": [
    "df.values.shape"
   ]
  },
  {
   "cell_type": "markdown",
   "id": "651605b1-8d2c-4d3e-a09e-9aef6e550fc6",
   "metadata": {},
   "source": [
    "# Goal\n",
    "The goal is to build a predictive model that is trained on the following data:\n",
    "* latitude and longitude (location)\n",
    "* Hour of the day\n",
    "* Day of the week\n",
    "* Area-of-command code: The police designation of the bureau of the operation.\n",
    "* Classification code for the crime committed\n",
    "  \n",
    "The predicted variable is the number of persons involved in the accident.\n"
   ]
  },
  {
   "cell_type": "markdown",
   "id": "0e54f0b8-83f9-4db9-88f9-f5a595342069",
   "metadata": {},
   "source": [
    "## Task 1\n",
    "* print a few rows of the values in the dataframe ``df`` and explain what each column of data means. \n",
    "* identify the input and target variables\n",
    "* what is the range of values in each column? Do you need to scale, shift or normalize your data? \n"
   ]
  },
  {
   "cell_type": "code",
   "execution_count": 7,
   "id": "4aa92005-0c63-4931-892d-2c27899ca2a9",
   "metadata": {},
   "outputs": [
    {
     "data": {
      "text/html": [
       "<div>\n",
       "<style scoped>\n",
       "    .dataframe tbody tr th:only-of-type {\n",
       "        vertical-align: middle;\n",
       "    }\n",
       "\n",
       "    .dataframe tbody tr th {\n",
       "        vertical-align: top;\n",
       "    }\n",
       "\n",
       "    .dataframe thead th {\n",
       "        text-align: right;\n",
       "    }\n",
       "</style>\n",
       "<table border=\"1\" class=\"dataframe\">\n",
       "  <thead>\n",
       "    <tr style=\"text-align: right;\">\n",
       "      <th></th>\n",
       "      <th>X</th>\n",
       "      <th>Y</th>\n",
       "      <th>Area_Command</th>\n",
       "      <th>NIBRSOffenseCode</th>\n",
       "      <th>DayOfWeek</th>\n",
       "      <th>Time</th>\n",
       "      <th>VictimCount</th>\n",
       "    </tr>\n",
       "  </thead>\n",
       "  <tbody>\n",
       "    <tr>\n",
       "      <th>0</th>\n",
       "      <td>-115.087518</td>\n",
       "      <td>36.216702</td>\n",
       "      <td>0</td>\n",
       "      <td>0</td>\n",
       "      <td>0</td>\n",
       "      <td>0</td>\n",
       "      <td>0</td>\n",
       "    </tr>\n",
       "    <tr>\n",
       "      <th>1</th>\n",
       "      <td>-115.240172</td>\n",
       "      <td>36.189693</td>\n",
       "      <td>1</td>\n",
       "      <td>1</td>\n",
       "      <td>1</td>\n",
       "      <td>1</td>\n",
       "      <td>0</td>\n",
       "    </tr>\n",
       "    <tr>\n",
       "      <th>2</th>\n",
       "      <td>-115.143088</td>\n",
       "      <td>36.181329</td>\n",
       "      <td>2</td>\n",
       "      <td>1</td>\n",
       "      <td>2</td>\n",
       "      <td>0</td>\n",
       "      <td>1</td>\n",
       "    </tr>\n",
       "    <tr>\n",
       "      <th>3</th>\n",
       "      <td>-115.225014</td>\n",
       "      <td>36.117633</td>\n",
       "      <td>3</td>\n",
       "      <td>1</td>\n",
       "      <td>1</td>\n",
       "      <td>2</td>\n",
       "      <td>2</td>\n",
       "    </tr>\n",
       "    <tr>\n",
       "      <th>4</th>\n",
       "      <td>-115.176708</td>\n",
       "      <td>36.095967</td>\n",
       "      <td>4</td>\n",
       "      <td>1</td>\n",
       "      <td>1</td>\n",
       "      <td>3</td>\n",
       "      <td>0</td>\n",
       "    </tr>\n",
       "    <tr>\n",
       "      <th>...</th>\n",
       "      <td>...</td>\n",
       "      <td>...</td>\n",
       "      <td>...</td>\n",
       "      <td>...</td>\n",
       "      <td>...</td>\n",
       "      <td>...</td>\n",
       "      <td>...</td>\n",
       "    </tr>\n",
       "    <tr>\n",
       "      <th>270</th>\n",
       "      <td>-115.114739</td>\n",
       "      <td>36.119592</td>\n",
       "      <td>5</td>\n",
       "      <td>1</td>\n",
       "      <td>5</td>\n",
       "      <td>18</td>\n",
       "      <td>0</td>\n",
       "    </tr>\n",
       "    <tr>\n",
       "      <th>271</th>\n",
       "      <td>-115.080764</td>\n",
       "      <td>36.162648</td>\n",
       "      <td>0</td>\n",
       "      <td>1</td>\n",
       "      <td>5</td>\n",
       "      <td>17</td>\n",
       "      <td>0</td>\n",
       "    </tr>\n",
       "    <tr>\n",
       "      <th>272</th>\n",
       "      <td>-115.172073</td>\n",
       "      <td>36.123012</td>\n",
       "      <td>4</td>\n",
       "      <td>1</td>\n",
       "      <td>1</td>\n",
       "      <td>16</td>\n",
       "      <td>2</td>\n",
       "    </tr>\n",
       "    <tr>\n",
       "      <th>273</th>\n",
       "      <td>-115.152593</td>\n",
       "      <td>36.066073</td>\n",
       "      <td>5</td>\n",
       "      <td>1</td>\n",
       "      <td>6</td>\n",
       "      <td>23</td>\n",
       "      <td>0</td>\n",
       "    </tr>\n",
       "    <tr>\n",
       "      <th>274</th>\n",
       "      <td>-115.060345</td>\n",
       "      <td>36.137296</td>\n",
       "      <td>9</td>\n",
       "      <td>1</td>\n",
       "      <td>6</td>\n",
       "      <td>13</td>\n",
       "      <td>1</td>\n",
       "    </tr>\n",
       "  </tbody>\n",
       "</table>\n",
       "<p>275 rows × 7 columns</p>\n",
       "</div>"
      ],
      "text/plain": [
       "              X          Y  Area_Command  NIBRSOffenseCode  DayOfWeek  Time  \\\n",
       "0   -115.087518  36.216702             0                 0          0     0   \n",
       "1   -115.240172  36.189693             1                 1          1     1   \n",
       "2   -115.143088  36.181329             2                 1          2     0   \n",
       "3   -115.225014  36.117633             3                 1          1     2   \n",
       "4   -115.176708  36.095967             4                 1          1     3   \n",
       "..          ...        ...           ...               ...        ...   ...   \n",
       "270 -115.114739  36.119592             5                 1          5    18   \n",
       "271 -115.080764  36.162648             0                 1          5    17   \n",
       "272 -115.172073  36.123012             4                 1          1    16   \n",
       "273 -115.152593  36.066073             5                 1          6    23   \n",
       "274 -115.060345  36.137296             9                 1          6    13   \n",
       "\n",
       "     VictimCount  \n",
       "0              0  \n",
       "1              0  \n",
       "2              1  \n",
       "3              2  \n",
       "4              0  \n",
       "..           ...  \n",
       "270            0  \n",
       "271            0  \n",
       "272            2  \n",
       "273            0  \n",
       "274            1  \n",
       "\n",
       "[275 rows x 7 columns]"
      ]
     },
     "execution_count": 7,
     "metadata": {},
     "output_type": "execute_result"
    }
   ],
   "source": [
    "#Print a few rows of the values in the dataframe df\n",
    "df"
   ]
  },
  {
   "cell_type": "markdown",
   "id": "2e226092-2065-4a66-aad8-24bda4cf35d6",
   "metadata": {},
   "source": [
    "#### <span style = \"color:blue\"> Explain what each column of data means.</span>\n",
    "* `X` and `Y` column mean the location. `X` for the longitude and `Y` for the latitude.\n",
    "* `Area_Command` column means the police designation of bureau of the operation.\n",
    "* `NIBRSOffenseCode` is the classification code for the crime committed. That is to say, the numerical codes for different types of offenses.\n",
    "* `DayOfWeek` column is the day of the week, monday, tuesday, wednesday... \n",
    "* `Time` represents the time of day in hours from midnight (value 0) to 23.\n",
    "* `VictimCount` reprensents the number of victim associated with each reported crime."
   ]
  },
  {
   "cell_type": "markdown",
   "id": "a6c1e3e3-ccc0-4464-ba20-598942ab5723",
   "metadata": {},
   "source": [
    "#### <span style = \"color:blue\"> Identify the input and target variables </span>\n",
    "As explained in the predictive model goal of this assignment the input variables are :\n",
    "* latitude and longitude (location)\n",
    "* Classification code for the crime committed\n",
    "* Area-of-command code\n",
    "* \n",
    "Hour of the da\n",
    "* Day of the week\n",
    "\n",
    "And the target variable is the **number of victim**.tted"
   ]
  },
  {
   "cell_type": "markdown",
   "id": "31401f23-6c2e-44be-9687-18305c5e8bf4",
   "metadata": {},
   "source": [
    "#### <span style = \"color:blue\"> What is the range of values in each column? Do you need to scale, shift or normalize your data? </span>\n",
    "* `X` and `Y` column have values regardind latitude and longitude ranges. Between [-90, 90] for the latitude and between [-180 ,180] for the longitude\n",
    "* `AreaCommand` has values between [0, number of distinct area code]. 0 represents one area, 1 another and so on...\n",
    "* `NIBRSOffenseCode` column same as AreaCommand, its values are between [0, number of distinct OffenseCode].\n",
    "* `DayOfWeek` has values between [0,6]. Here 0 represents one day, 2 another, same for 3..., the seven days of the week.\n",
    "* `Time` has values between [0,23].\n",
    "* `VictimCount` has values $n \\in \\mathbb{N}$\n",
    "\n",
    "We should **normalize our data** to have all the values between 0 and 1 in order to have all the features in the same scale."
   ]
  },
  {
   "cell_type": "markdown",
   "id": "5549ecc9-3c0b-4efa-9a1f-340a25a1e4be",
   "metadata": {},
   "source": [
    "## Task 2 \n",
    "\n",
    "* Create two `DataLoader` objects for training and testing based on the input and output variables. Pick a reasonable batch size and verify the shape of data by iterating over the one dataset and printing the shape of the batched data. "
   ]
  },
  {
   "cell_type": "markdown",
   "id": "75e8c535-1a24-4165-bd28-6a12b0460a3a",
   "metadata": {},
   "source": [
    "With the first part, we have identified our inputs and the target variables. "
   ]
  },
  {
   "cell_type": "code",
   "execution_count": 8,
   "id": "d25c1319-f389-45c3-a919-dfae775aaa62",
   "metadata": {},
   "outputs": [
    {
     "name": "stdout",
     "output_type": "stream",
     "text": [
      "(275, 6)\n",
      "(275,)\n"
     ]
    }
   ],
   "source": [
    "#Separate the input and the output \n",
    "X = df[['X', 'Y', 'Area_Command', 'NIBRSOffenseCode', 'DayOfWeek', 'Time']].values\n",
    "Y = df['VictimCount'].values\n",
    "print(X.shape)\n",
    "print(Y.shape)"
   ]
  },
  {
   "cell_type": "markdown",
   "id": "5f0b36f3-b90a-4525-ac20-1eb096e3fbbd",
   "metadata": {},
   "source": [
    "Then, we will use the DataLoader class from PyTorch to create our dataset. For that we need to use a dataset object. That is why we'll convert the NumPy arrays (X and Y) into a torch.Tensor object in order to use TensorDataset().  \n",
    "*<span style=\"float:right;\">Help by [the documentation](https://pytorch.org/docs/stable/data.html) and AI</span>*"
   ]
  },
  {
   "cell_type": "code",
   "execution_count": 126,
   "id": "00fe4287-934b-4799-9e43-c3571acfbab4",
   "metadata": {},
   "outputs": [
    {
     "name": "stdout",
     "output_type": "stream",
     "text": [
      "220\n",
      "55\n",
      "Batch 1 - X_batch shape: torch.Size([32, 6]), Y_batch shape: torch.Size([32])\n",
      "Batch 2 - X_batch shape: torch.Size([32, 6]), Y_batch shape: torch.Size([32])\n",
      "Batch 3 - X_batch shape: torch.Size([32, 6]), Y_batch shape: torch.Size([32])\n",
      "Batch 4 - X_batch shape: torch.Size([32, 6]), Y_batch shape: torch.Size([32])\n",
      "Batch 5 - X_batch shape: torch.Size([32, 6]), Y_batch shape: torch.Size([32])\n",
      "Batch 6 - X_batch shape: torch.Size([32, 6]), Y_batch shape: torch.Size([32])\n",
      "Batch 7 - X_batch shape: torch.Size([28, 6]), Y_batch shape: torch.Size([28])\n"
     ]
    }
   ],
   "source": [
    "#Convertion to Tensor\n",
    "X_tensor = torch.tensor(X, dtype=torch.float32)\n",
    "Y_tensor = torch.tensor(Y, dtype=torch.float32)\n",
    "\n",
    "#Creation of the dataset\n",
    "dataset = TensorDataset(X_tensor, Y_tensor)\n",
    "\n",
    "#Split the dataset into train and test dataset, 80% for the train and 20% for the test.\n",
    "train_size = int(0.8 * len(dataset))\n",
    "test_size = len(dataset) - train_size\n",
    "train_dataset, test_dataset = random_split(dataset, [train_size, test_size])\n",
    "print(len(train_dataset))\n",
    "print(len(test_dataset))\n",
    "\n",
    "#Pick a reasonable batch size power of 2\n",
    "batch_size = 32\n",
    "\n",
    "#Creation of the DataLoader objects\n",
    "train_loader = DataLoader(dataset=train_dataset, \n",
    "                                           batch_size=batch_size, \n",
    "                                           shuffle=True)\n",
    "\n",
    "test_loader = DataLoader(dataset=test_dataset, \n",
    "                                          batch_size=batch_size, \n",
    "                                          shuffle=False)\n",
    "\n",
    "#Iterating over the train dataset and printing the shape of the batched data.\n",
    "for batch, (X_batch, Y_batch) in enumerate(train_loader):\n",
    "    print(f\"Batch {batch + 1} - X_batch shape: {X_batch.shape}, Y_batch shape: {Y_batch.shape}\")"
   ]
  },
  {
   "cell_type": "markdown",
   "id": "1fb6f08c-5e70-4b14-b62c-4686d9f7aace",
   "metadata": {},
   "source": [
    "## Task 3\n",
    "In this task you will try to predict number of crime victims as a **real number**. Therefore the machine learning problem is a **regression** problem. \n",
    "\n",
    "* Define the proper loss function for this task\n",
    "* what should the size of the predicted output be?\n",
    "* explain your choice of architecture, including how many layers you will be using\n",
    "* define an optimizer for training this model, choose a proper learning rate \n",
    "* write a training loop that obtains a batch out of the  training data and calculates the forward and backward passes over the neural network. Call the optimizer to update the weights of the neural network.\n",
    "* write a for loop that continues the training over a number of epochs. At the end of each epoch, calculate the ``MSE`` error on the test data and print it.\n",
    "* is your model training well? Adjust the learning rate, hidden size of the network, and try different activation functions and number of layers to achieve the best accuracy and report it. "
   ]
  },
  {
   "cell_type": "markdown",
   "id": "163e5031-dbd2-458b-9d01-3680a626b0b4",
   "metadata": {},
   "source": [
    "#### <span style = \"color:blue\"> Define the proper loss function </span>\n",
    "We are dealing with a regression problem. Therefore, we will use the MSE (Mean Square Error) loss function for this task. It's the most common loss function used for regression machine learning problem.\n",
    "\n",
    "#### <span style = \"color:blue\">Size of the predicted output </span>\n",
    "The size of the predicted output should be 1. We are predicting the number of victims which is a single real numbere. And as we can see above the shape of Y (output) is also a single dimension.\n",
    "\n",
    "#### <span style = \"color:blue\"> Choice of architecture </span>\n",
    "Because we don't have a lot of data, 220 for the training data points and 55 for the test, we will use a simple feedforward neural network in order to avoid overfitting. So, we will use a input layer with the shape of the number of features we have, a single hidden layer both using the ReLU ( Rectified Linear Unit $f(x)=max(0,x)$ ) activation function with a reasonable number of neurons (64) to not have a complex model. And a output layer of 1 unit because we are in a regression model.\n",
    "\n",
    "#### <span style = \"color:blue\"> Define an optimizer, choose a proper learning rate </span>\n",
    "We will use the `RMSprop` (Root Mean Square Propagation) optimizer which is generally a good enough choice, whatever our problem. Then we'll assign a reasonable learning rate as 0.01\n",
    "*This information was found in the book <u>Deep learning with Python by François Chollet</u> that we are using in the Artificial Intelligence class* "
   ]
  },
  {
   "cell_type": "code",
   "execution_count": 127,
   "id": "51d30496-7e38-45fa-8faf-1f60a43017c7",
   "metadata": {},
   "outputs": [],
   "source": [
    "import torch.nn as nn\n",
    "import torch.optim as optim\n",
    "\n",
    "class FFNN(nn.Module):\n",
    "    def __init__(self, input_dim, hidden_dim):\n",
    "        super(FFNN, self).__init__()\n",
    "\n",
    "        # Activation function\n",
    "        self.activation = nn.ReLU()\n",
    "        \n",
    "        # Input Layer\n",
    "        self.fc1 = nn.Linear(input_dim, hidden_dim)\n",
    "\n",
    "        # Hidden layer\n",
    "        self.fc2 = nn.Linear(hidden_dim, hidden_dim)\n",
    "\n",
    "        # Hidden layer\n",
    "        self.fc3 = nn.Linear(hidden_dim, 32)\n",
    "\n",
    "        # Output Layer \n",
    "        self.fc4 = nn.Linear(32, 1) # Output size is 1 for regression\n",
    "\n",
    "    def forward(self, x):\n",
    "        h1  = self.activation(self.fc1(x))\n",
    "        h2  = self.activation(self.fc2(h1))\n",
    "        h3  = self.activation(self.fc3(h2))\n",
    "        out = self.fc4(h3)\n",
    "        # Reshaping the output to ensure dimensions match\n",
    "        # due to the shape of Y_batch (64) and not (64,1). Solution found with chatGPT.\n",
    "        return out.view(-1) "
   ]
  },
  {
   "cell_type": "code",
   "execution_count": 128,
   "id": "6afe76e1-1ca6-445d-865a-ca70e5f41f79",
   "metadata": {},
   "outputs": [],
   "source": [
    "#Creation of the model\n",
    "model = FFNN(6, 64)\n",
    "\n",
    "# Define the loss function\n",
    "loss_function = nn.MSELoss()\n",
    "\n",
    "# Define the optimizer\n",
    "optimizer = optim.RMSprop(model.parameters(), lr=0.001)"
   ]
  },
  {
   "cell_type": "code",
   "execution_count": 129,
   "id": "c313dfa5-5fc1-4ecd-bf75-8a9d222fe396",
   "metadata": {},
   "outputs": [
    {
     "data": {
      "text/plain": [
       "FFNN(\n",
       "  (activation): ReLU()\n",
       "  (fc1): Linear(in_features=6, out_features=64, bias=True)\n",
       "  (fc2): Linear(in_features=64, out_features=64, bias=True)\n",
       "  (fc3): Linear(in_features=64, out_features=32, bias=True)\n",
       "  (fc4): Linear(in_features=32, out_features=1, bias=True)\n",
       ")"
      ]
     },
     "execution_count": 129,
     "metadata": {},
     "output_type": "execute_result"
    }
   ],
   "source": [
    "model"
   ]
  },
  {
   "cell_type": "code",
   "execution_count": 130,
   "id": "59ee44ee-e6ca-4360-929b-3950224021cd",
   "metadata": {},
   "outputs": [
    {
     "name": "stdout",
     "output_type": "stream",
     "text": [
      "146\n"
     ]
    }
   ],
   "source": [
    "# Training loop\n",
    "n_iters = 1000\n",
    "num_epochs = n_iters / (len(train_dataset) / batch_size)\n",
    "num_epochs = int(np.ceil(num_epochs))\n",
    "print(num_epochs)"
   ]
  },
  {
   "cell_type": "code",
   "execution_count": 131,
   "id": "705be48b-955f-461d-a5e9-f272f5a2bc8b",
   "metadata": {},
   "outputs": [
    {
     "name": "stdout",
     "output_type": "stream",
     "text": [
      "Iteration: 125.  Average MSE on Test Data: 0.786729484796524\n",
      "Iteration: 250.  Average MSE on Test Data: 0.6553401947021484\n",
      "Iteration: 375.  Average MSE on Test Data: 0.69430011510849\n",
      "Iteration: 500.  Average MSE on Test Data: 0.6834070682525635\n",
      "Iteration: 625.  Average MSE on Test Data: 0.7012510299682617\n",
      "Iteration: 750.  Average MSE on Test Data: 0.7923078238964081\n",
      "Iteration: 875.  Average MSE on Test Data: 0.8187140226364136\n",
      "Iteration: 1000.  Average MSE on Test Data: 0.5551410913467407\n"
     ]
    }
   ],
   "source": [
    "iter = 0\n",
    "for epoch in range(num_epochs):\n",
    "    for i, (x_train, y_train) in enumerate(train_loader):\n",
    "            # Clear gradients w.r.t. parameters\n",
    "            optimizer.zero_grad()\n",
    "    \n",
    "            # Forward pass to get output\n",
    "            prediction = model(x_train)\n",
    "    \n",
    "            # Calculate Loss\n",
    "            loss = loss_function(prediction, y_train)\n",
    "    \n",
    "            #  Getting gradients w.r.t. parameters\n",
    "            loss.backward()\n",
    "\n",
    "            # Updating parameters\n",
    "            optimizer.step()\n",
    "\n",
    "            iter += 1\n",
    "    \n",
    "            if iter % 125 == 0:\n",
    "                # Calculate MSE on test data\n",
    "                total_mse = 0\n",
    "                for i, (x_test, y_test) in enumerate(test_loader):\n",
    "                    # Forward pass only to get output\n",
    "                    output = model(x_test)\n",
    "                    \n",
    "                    # Calculate MSE on the test data\n",
    "                    test_mse = loss_function(output, y_test)\n",
    "                    total_mse += test_mse.item()\n",
    "    \n",
    "                # Calculate the average MSE on the test data\n",
    "                average_mse = total_mse / len(test_loader)\n",
    "                \n",
    "                # Print Loss and MSE\n",
    "                print('Iteration: {}.  Average MSE on Test Data: {}'.format(iter, average_mse))"
   ]
  },
  {
   "cell_type": "markdown",
   "id": "bb001f74-1ef5-48b1-94bc-6c31060ffbb8",
   "metadata": {},
   "source": [
    "Because the model is not training well (The average MSE on the test data ranges from approximately 0.546 to 0.943 and was increasing same for the training loss), after several test, we changed some parameters:\n",
    "* The value of the learning rate (0.01 before to 0.001 now)\n",
    "* The batch size (64 before to 32 now) to increase the number of batch to prevent the overfitting\n",
    "* Reduce the number of iteration because the model was learning to well on the train data (3000 before to 1000 now).\n",
    "* And add another hidden layer with 32 neurons.\n",
    "\n",
    "Now, the results that the MSE on the test data has decreased, which is a positive sign indicating the model is improving. Moreover, the training loss is also decreasing, suggesting that the model is learning more efficiently."
   ]
  },
  {
   "cell_type": "markdown",
   "id": "86e3fc70-c6ce-4589-9930-128951290e8d",
   "metadata": {},
   "source": [
    "## Task 4 \n",
    "\n",
    "In this task, you will try to predict the number of crime victims as a **class number**. Therefore the machine learning problem is a **classification** problem. \n",
    "\n",
    "* Repeat all the steps in task 3. Specifically, pay attention to the differences with regression.\n",
    "* How would you find the number of classes on the output data?\n",
    "* How is the architecture different?\n",
    "* How is the loss function different?\n",
    "* Calculate the Accuracy for test data as the number of correct classified outputs divided by the total number of test data in each epoch. Report it at the end of each epoch\n",
    "* Try a few variations of learning rate, hidden dimensions, layers, etc. What is the best accuracy that you can get? "
   ]
  },
  {
   "cell_type": "markdown",
   "id": "4a9a3aa5-36f9-45c5-a445-831c8fe376b9",
   "metadata": {},
   "source": [
    "#### <span style = \"color:blue\"> Number of classes on the output data </span>\n",
    "We will define 4 classes (multiclass classification problem) : \n",
    "* Class 0 for no victims.\n",
    "* Class 1 for a small number of victims (between 1 and 4).\n",
    "* Class 2 for a medium number of victims (between 5 and 10).\n",
    "* Class 3 for a large number of victims (more than 10).\n",
    "\n",
    "Because the output data (Y, the number of victim) has a shape of (275,1), we should map the number of victims to a class."
   ]
  },
  {
   "cell_type": "code",
   "execution_count": 343,
   "id": "e5354bab-b92a-4cf4-8cf6-ee332b6785ab",
   "metadata": {},
   "outputs": [
    {
     "data": {
      "text/plain": [
       "array([0, 0, 1, 1, 0, 1, 1, 1, 0, 0, 0, 1, 1, 0, 1, 1, 1, 1, 0, 1, 0, 1,\n",
       "       0, 0, 0, 1, 0, 1, 0, 1, 0, 0, 0, 1, 1, 1, 1, 1, 1, 0, 0, 0, 1, 1,\n",
       "       0, 0, 0, 0, 1, 0, 0, 1, 0, 1, 0, 0, 0, 0, 1, 0, 0, 0, 0, 1, 0, 1,\n",
       "       0, 1, 1, 1, 1, 0, 0, 1, 1, 0, 0, 1, 1, 1, 0, 1, 0, 0, 0, 0, 0, 1,\n",
       "       0, 0, 0, 1, 0, 1, 0, 0, 0, 0, 0, 1, 0, 0, 0, 0, 1, 1, 0, 1, 0, 0,\n",
       "       0, 0, 0, 1, 0, 1, 1, 0, 0, 1, 0, 1, 1, 1, 0, 0, 1, 1, 0, 1, 1, 1,\n",
       "       0, 1, 0, 1, 1, 1, 0, 1, 1, 0, 1, 1, 1, 1, 1, 0, 1, 0, 0, 1, 1, 1,\n",
       "       0, 0, 0, 1, 1, 0, 1, 0, 1, 1, 1, 0, 1, 0, 0, 0, 1, 0, 0, 1, 0, 1,\n",
       "       1, 0, 1, 1, 1, 0, 1, 1, 1, 1, 1, 1, 0, 0, 0, 0, 0, 0, 1, 0, 0, 0,\n",
       "       0, 0, 1, 1, 0, 0, 1, 0, 0, 0, 1, 0, 0, 1, 0, 1, 0, 0, 1, 1, 1, 1,\n",
       "       1, 1, 1, 0, 0, 1, 0, 0, 0, 0, 0, 0, 1, 0, 1, 1, 1, 0, 0, 1, 1, 1,\n",
       "       1, 0, 1, 0, 2, 1, 1, 1, 0, 0, 0, 0, 0, 2, 0, 0, 0, 0, 1, 1, 0, 0,\n",
       "       1, 1, 1, 1, 1, 1, 0, 0, 1, 0, 1])"
      ]
     },
     "execution_count": 343,
     "metadata": {},
     "output_type": "execute_result"
    }
   ],
   "source": [
    "# Function to map the number of victims to a class generated with an AI\n",
    "def map_to_class(victims):\n",
    "    if victims == 0:\n",
    "        return 0  # \"No victims\"\n",
    "    elif 1 <= victims <= 4:\n",
    "        return 1  # \"Small number of victims\"\n",
    "    elif 5 <= victims <= 10:\n",
    "        return 2  # \"Medium number of victims\"\n",
    "    else:\n",
    "        return 3  # \"Large number of victims\"\n",
    "\n",
    "# Apply the mapping function to each example in 'y'\n",
    "classes = np.array([map_to_class(victims) for victims in Y])\n",
    "classes # contains the corresponding classes for each example"
   ]
  },
  {
   "cell_type": "code",
   "execution_count": 350,
   "id": "a4cf6f7c-aa4d-4e86-ac9b-d25af2c58222",
   "metadata": {},
   "outputs": [
    {
     "name": "stdout",
     "output_type": "stream",
     "text": [
      "220\n",
      "55\n",
      "Batch 1 - X_batch shape: torch.Size([32, 6]), Y_batch shape: torch.Size([32])\n",
      "Batch 2 - X_batch shape: torch.Size([32, 6]), Y_batch shape: torch.Size([32])\n",
      "Batch 3 - X_batch shape: torch.Size([32, 6]), Y_batch shape: torch.Size([32])\n",
      "Batch 4 - X_batch shape: torch.Size([32, 6]), Y_batch shape: torch.Size([32])\n",
      "Batch 5 - X_batch shape: torch.Size([32, 6]), Y_batch shape: torch.Size([32])\n",
      "Batch 6 - X_batch shape: torch.Size([32, 6]), Y_batch shape: torch.Size([32])\n",
      "Batch 7 - X_batch shape: torch.Size([28, 6]), Y_batch shape: torch.Size([28])\n"
     ]
    }
   ],
   "source": [
    "#Convertion to Tensor\n",
    "X_tensor = torch.tensor(X, dtype=torch.float32)\n",
    "Y_tensor = torch.tensor(classes, dtype=torch.long)\n",
    "\n",
    "#Creation of the dataset\n",
    "dataset = TensorDataset(X_tensor, Y_tensor)\n",
    "\n",
    "#Split the dataset into train and test dataset, 80% for the train and 20% for the test.\n",
    "train_size = int(0.8 * len(dataset))\n",
    "test_size = len(dataset) - train_size\n",
    "train_dataset, test_dataset = random_split(dataset, [train_size, test_size])\n",
    "print(len(train_dataset))\n",
    "print(len(test_dataset))\n",
    "\n",
    "#Pick a reasonable batch size power of 2\n",
    "batch_size = 32\n",
    "\n",
    "#Creation of the DataLoader objects\n",
    "train_loader = DataLoader(dataset=train_dataset, \n",
    "                                           batch_size=batch_size, \n",
    "                                           shuffle=True)\n",
    "\n",
    "test_loader = DataLoader(dataset=test_dataset, \n",
    "                                          batch_size=batch_size, \n",
    "                                          shuffle=False)\n",
    "\n",
    "#Iterating over the train dataset and printing the shape of the batched data.\n",
    "for batch, (X_batch, Y_batch) in enumerate(train_loader):\n",
    "    print(f\"Batch {batch + 1} - X_batch shape: {X_batch.shape}, Y_batch shape: {Y_batch.shape}\")"
   ]
  },
  {
   "cell_type": "markdown",
   "id": "cd8b19f2-0f82-471d-8094-e2bdddd53037",
   "metadata": {},
   "source": [
    "#### <span style = \"color:blue\"> Different architecture </span>\n",
    "We will keep the same model. We will only change the dimension of the output layer which would have as many neurons as there are classes (so 4 neurons).\n",
    "\n",
    "#### <span style = \"color:blue\"> Different loss function </span>\n",
    "Instead of using the Mean Squared Error used in regression, we will use the Cross-Entropy loss function, to measure the error between the predicted class probabilities and the true class labels."
   ]
  },
  {
   "cell_type": "code",
   "execution_count": 351,
   "id": "1e9d1d3d-6558-4181-a626-953bc8429982",
   "metadata": {},
   "outputs": [],
   "source": [
    "import torch.nn as nn\n",
    "import torch.optim as optim\n",
    "\n",
    "class FFNN_Classification(nn.Module):\n",
    "    def __init__(self, input_dim, hidden_dim, num_classes):\n",
    "        super(FFNN_Classification, self).__init__()\n",
    "\n",
    "        # Activation function\n",
    "        self.activation = nn.ReLU()\n",
    "        \n",
    "        # Input Layer\n",
    "        self.fc1 = nn.Linear(input_dim, hidden_dim)\n",
    "\n",
    "        # Hidden layer\n",
    "        self.fc2 = nn.Linear(hidden_dim, 32)\n",
    "\n",
    "        # Output Layer \n",
    "        self.fc4 = nn.Linear(32, num_classes)\n",
    "\n",
    "    def forward(self, x):\n",
    "        h1  = self.activation(self.fc1(x))\n",
    "        h2  = self.activation(self.fc2(h1))\n",
    "        out = self.fc4(h2)\n",
    "        return out "
   ]
  },
  {
   "cell_type": "code",
   "execution_count": 352,
   "id": "4562ab08-b2cc-455e-a6fc-a7adada2284b",
   "metadata": {},
   "outputs": [],
   "source": [
    "#Creation of the model\n",
    "model = FFNN_Classification(6, 64, 4)\n",
    "\n",
    "# Define the loss function\n",
    "loss_function = nn.CrossEntropyLoss()\n",
    "\n",
    "# Define the optimizer\n",
    "optimizer = optim.RMSprop(model.parameters(), lr=0.001)"
   ]
  },
  {
   "cell_type": "code",
   "execution_count": 353,
   "id": "873b36df-0d91-415e-9e2e-98e316ebdc8c",
   "metadata": {},
   "outputs": [
    {
     "data": {
      "text/plain": [
       "FFNN_Classification(\n",
       "  (activation): ReLU()\n",
       "  (fc1): Linear(in_features=6, out_features=64, bias=True)\n",
       "  (fc2): Linear(in_features=64, out_features=32, bias=True)\n",
       "  (fc4): Linear(in_features=32, out_features=4, bias=True)\n",
       ")"
      ]
     },
     "execution_count": 353,
     "metadata": {},
     "output_type": "execute_result"
    }
   ],
   "source": [
    "model"
   ]
  },
  {
   "cell_type": "code",
   "execution_count": 354,
   "id": "ebac0af9-165e-4816-abb5-c9688d8e6e93",
   "metadata": {},
   "outputs": [
    {
     "name": "stdout",
     "output_type": "stream",
     "text": [
      "146\n"
     ]
    }
   ],
   "source": [
    "# Training loop\n",
    "n_iters = 1000\n",
    "num_epochs = n_iters / (len(train_dataset) / batch_size)\n",
    "num_epochs = int(np.ceil(num_epochs))\n",
    "print(num_epochs)"
   ]
  },
  {
   "cell_type": "code",
   "execution_count": 355,
   "id": "f9f28aa4-f226-4913-b4fe-5e09c4e0a202",
   "metadata": {},
   "outputs": [
    {
     "name": "stdout",
     "output_type": "stream",
     "text": [
      "Iteration: 125. Loss: 1.0858607292175293. Accuracy: 49.09090805053711\n",
      "Iteration: 250. Loss: 0.6862599849700928. Accuracy: 50.90909194946289\n",
      "Iteration: 375. Loss: 0.6572734117507935. Accuracy: 49.09090805053711\n",
      "Iteration: 500. Loss: 0.7115736603736877. Accuracy: 49.09090805053711\n",
      "Iteration: 625. Loss: 0.8045543432235718. Accuracy: 49.09090805053711\n",
      "Iteration: 750. Loss: 0.6923602819442749. Accuracy: 63.6363639831543\n",
      "Iteration: 875. Loss: 0.7228711843490601. Accuracy: 58.181819915771484\n",
      "Iteration: 1000. Loss: 0.7483513951301575. Accuracy: 56.3636360168457\n"
     ]
    }
   ],
   "source": [
    "iter = 0\n",
    "for epoch in range(num_epochs):\n",
    "    for i, (x_train, y_train) in enumerate(train_loader):\n",
    "            # Clear gradients w.r.t. parameters\n",
    "            optimizer.zero_grad()\n",
    "    \n",
    "            # Forward pass to get output\n",
    "            prediction = model(x_train)\n",
    "    \n",
    "            # Calculate Loss\n",
    "            loss = loss_function(prediction, y_train)\n",
    "    \n",
    "            #  Getting gradients w.r.t. parameters\n",
    "            loss.backward()\n",
    "\n",
    "            # Updating parameters\n",
    "            optimizer.step()\n",
    "\n",
    "            iter += 1\n",
    "    \n",
    "            if iter % 125 == 0:\n",
    "                # Calculate Accuracy         \n",
    "                correct = 0\n",
    "                total = 0\n",
    "                for i, (x_test, y_test) in enumerate(test_loader):\n",
    "                    # Forward pass only to get output\n",
    "                    output = model(x_test)\n",
    "\n",
    "                    # Get predictions from the maximum value\n",
    "                    _, predicted = torch.max(output, 1)\n",
    "\n",
    "                    # Total number of labels\n",
    "                    total += y_test.size(0)\n",
    "\n",
    "                    # Total correct predictions\n",
    "                    correct += (predicted == y_test).sum()\n",
    "    \n",
    "                accuracy = 100 * correct / total\n",
    "            \n",
    "                # Print Loss\n",
    "                print('Iteration: {}. Loss: {}. Accuracy: {}'.format(iter, loss.item(), accuracy))"
   ]
  },
  {
   "cell_type": "markdown",
   "id": "48cc2d76-795d-45b2-9e2e-55af76b2f3b5",
   "metadata": {},
   "source": [
    "After several variations of learning rate, hidden dimensions, layers, etc, that's the best accuracy I was able to get."
   ]
  },
  {
   "cell_type": "markdown",
   "id": "84d2a304-6197-4cd9-b31e-745f7862f213",
   "metadata": {},
   "source": [
    "## Task 5"
   ]
  },
  {
   "cell_type": "markdown",
   "id": "d6e4ef16-d828-45e5-bd58-1c49fcfecf52",
   "metadata": {},
   "source": [
    "### Reflect on your results\n",
    "\n",
    "* Write a paragraph about your experience with tasks 3 and 4. How do you compare the results? Which one worked better? Why?\n",
    "* Write a piece of code that finds an example of a  miss-classification. Calculate the probabilities for the output classes and plot them in a bar chart. Also, indicate what is the correct class label."
   ]
  },
  {
   "cell_type": "markdown",
   "id": "4d888a3e-27d0-43cc-8e0e-bb6ed01c0bfe",
   "metadata": {},
   "source": [
    "In the **task 3**, the results show that the model was making progress in reducing the MSE over iterations (from 0.786729484796524 to 0.5551410913467407) and so in reducing the prediction errors for regression.  \n",
    "In the **task 4**, the aim was to classify crime data into categories such as \"No victims,\" \"Small number of victims,\" \"Medium number of victims,\" and \"Large number of victims.\" The results show that the classification model achieved an accuracy ranging from 49% to 63% on the test data. That means that the model was able to correctly classify 63% crime data into the predefined categories.\n",
    "\n",
    "Even if it's not the same machine learning problem, we could say that the classification model worked better. In fact, with an accuracy of 63% we can say that approximately 63% of the instances were correctly classified into their respective categories, while 37% were misclassified.Compared to the regression's MSE of 55%, indicating a lower level of prediction error. Therefore, based on these results, the classification task appears to perform better."
   ]
  },
  {
   "cell_type": "code",
   "execution_count": 366,
   "id": "ac294fd1-772c-4206-a2de-7e1fe65b4400",
   "metadata": {},
   "outputs": [
    {
     "data": {
      "image/png": "[encoded data removed]",
      "text/plain": [
       "<Figure size 800x500 with 1 Axes>"
      ]
     },
     "metadata": {},
     "output_type": "display_data"
    },
    {
     "name": "stdout",
     "output_type": "stream",
     "text": [
      "True Class Label: No victims\n"
     ]
    }
   ],
   "source": [
    "import matplotlib.pyplot as plt\n",
    "\n",
    "# Store misclassified examples\n",
    "misclassified_examples = []\n",
    "\n",
    "# Iterate through the test dataset\n",
    "for i, (x_test, y_test) in enumerate(test_loader):\n",
    "    # Forward pass to get output\n",
    "    output = model(x_test)\n",
    "\n",
    "    # Get predictions from the maximum value\n",
    "    _, predicted = torch.max(output, 1)\n",
    "\n",
    "    # Convert y_test to a numpy array for comparison\n",
    "    #Use AI from this part.\n",
    "    true_labels = y_test.numpy()\n",
    "\n",
    "    # Check for misclassification\n",
    "    misclassified_mask = predicted != true_labels #if predicted different true_label so it's misclassified\n",
    "\n",
    "    misclassified_indices = np.where(misclassified_mask)[0]\n",
    "\n",
    "    for j in misclassified_indices:\n",
    "        # Calculate class probabilities\n",
    "        class_probabilities = torch.nn.functional.softmax(output, dim=1).detach().numpy()[j]\n",
    "\n",
    "        # Append the misclassified example's information\n",
    "        misclassified_examples.append((x_test[j], true_labels[j], predicted[j], class_probabilities))\n",
    "\n",
    "# Select a random misclassified example\n",
    "index = np.random.randint(0, len(misclassified_examples))\n",
    "example, true_label, predicted_label, class_probabilities = misclassified_examples[index]\n",
    "\n",
    "# Define class labels\n",
    "class_labels = [\"No victims\", \"Small number of victims\", \"Medium number of victims\", \"Large number of victims\"]\n",
    "\n",
    "# Plot the class probabilities in a bar chart\n",
    "plt.figure(figsize=(8, 5))\n",
    "plt.bar(class_labels, class_probabilities, color='b')\n",
    "plt.xlabel('Classes')\n",
    "plt.ylabel('Probabilities')\n",
    "plt.title('Probabilities for the output classes')\n",
    "plt.xticks(rotation=45)\n",
    "plt.grid(axis='y')\n",
    "plt.show()\n",
    "\n",
    "# Print the true class label\n",
    "print(f\"True Class Label: {class_labels[true_label]}\")\n",
    "\n"
   ]
  },
  {
   "cell_type": "markdown",
   "id": "b03ba2dc-fcf3-48ba-bb56-7977c65d0891",
   "metadata": {},
   "source": [
    "In this example, the model's predictions shows some uncertainty, with a probability of around 55% assigned to the \"No victims\" class and 44% to the \"Small number of victims\" class, while the true class is \"No victims.\" The model's confidence in its prediction is relatively low, hesitating between the first two classes.\n",
    "\r\n",
    "\r\n"
   ]
  },
  {
   "cell_type": "markdown",
   "id": "5b000b0b-fa37-4f8d-8ec7-0a1e6e749424",
   "metadata": {},
   "source": [
    "## Task 6: Exploring the patterns in raw data\n",
    "\n",
    "* Plot the crime incidents as a `scatter` plot using the corrdinates. Use the color property of each datapoint to indicate the day of the week. Is there a pattern in the plot?\n",
    "* Now make a new scatter plot and use the color property of each datapoint to indicate the number of persons involved in the incident. Is there a pattern here?\n",
    "* use numpy (or pandas if you like) to sort the number of crimes reported by the day of the week. What days are most frequent?\n"
   ]
  },
  {
   "cell_type": "code",
   "execution_count": 375,
   "id": "5b396aaf-5d1a-49cd-ae1d-b63af7e561f5",
   "metadata": {},
   "outputs": [
    {
     "data": {
      "image/png": "[encoded data removed]",
      "text/plain": [
       "<Figure size 1000x800 with 1 Axes>"
      ]
     },
     "metadata": {},
     "output_type": "display_data"
    }
   ],
   "source": [
    "# Define a color palette to represent the number of persons involved\n",
    "colors = sns.color_palette(\"magma\", as_cmap=True)\n",
    "\n",
    "plt.figure(figsize=(10, 8))\n",
    "sns.scatterplot(data=df, x='X', y='Y', hue='DayOfWeek', palette=colors)\n",
    "\n",
    "\n",
    "plt.xlabel('Longitude')\n",
    "plt.ylabel('Latitude')\n",
    "plt.title('Crime Incidents by Day of the Week')\n",
    "plt.legend()\n",
    "plt.show()\n"
   ]
  },
  {
   "cell_type": "markdown",
   "id": "7f68c7fc-c6f8-44bd-9174-dcf2e685c0fd",
   "metadata": {},
   "source": [
    "We can't see a pattern is this plot. We have a cluster where every points is gathered together but we cannot separate the colors."
   ]
  },
  {
   "cell_type": "code",
   "execution_count": 377,
   "id": "b431592c-b134-4e0b-be55-4e3a3081c831",
   "metadata": {},
   "outputs": [
    {
     "data": {
      "image/png": "[encoded data removed]",
      "text/plain": [
       "<Figure size 1000x800 with 1 Axes>"
      ]
     },
     "metadata": {},
     "output_type": "display_data"
    }
   ],
   "source": [
    "# Create the scatter plot\n",
    "plt.figure(figsize=(10, 8))\n",
    "sns.scatterplot(data=df, x='X', y='Y', hue='VictimCount', palette=colors)\n",
    "\n",
    "# Set labels and title\n",
    "plt.xlabel('Longitude')\n",
    "plt.ylabel('Latitude')\n",
    "plt.title('Crime Incidents with Persons Involved')\n",
    "\n",
    "# Show the color bar (legend)\n",
    "plt.legend(title='Persons Involved')\n",
    "\n",
    "# Show the plot\n",
    "plt.show()"
   ]
  },
  {
   "cell_type": "markdown",
   "id": "860d1d2b-40d1-45e5-99ca-7eaea0d70bc4",
   "metadata": {},
   "source": [
    "We still, with a slight difference, have the same graphic than before with the days of the week. Some crime areas seem to have 0 victims but this part should be expanded to identify a cluster"
   ]
  },
  {
   "cell_type": "code",
   "execution_count": 379,
   "id": "5ee51e3b-f535-4b8e-b2ba-e78bc916bd90",
   "metadata": {},
   "outputs": [
    {
     "name": "stdout",
     "output_type": "stream",
     "text": [
      "4: 51 crimes\n",
      "3: 44 crimes\n",
      "5: 43 crimes\n",
      "0: 40 crimes\n",
      "1: 37 crimes\n",
      "2: 32 crimes\n",
      "6: 28 crimes\n"
     ]
    }
   ],
   "source": [
    "#Help by an AI\n",
    "data = df['DayOfWeek'].to_numpy()\n",
    "\n",
    "# Count the occurrences of each day\n",
    "unique_days, counts = np.unique(data, return_counts=True)\n",
    "\n",
    "# Create a dictionary to store the counts\n",
    "day_counts = dict(zip(unique_days, counts))\n",
    "\n",
    "# Sort the days by their frequencies in descending order\n",
    "sorted_days = sorted(day_counts.items(), key=lambda x: x[1], reverse=True)\n",
    "\n",
    "# Print the most frequent days\n",
    "for day, count in sorted_days:\n",
    "    print(f\"{day}: {count} crimes\")"
   ]
  },
  {
   "cell_type": "markdown",
   "id": "dc6bbbec-3bcb-4cc4-b549-34c83b177cb0",
   "metadata": {},
   "source": [
    "The day number 4 is the more frequent."
   ]
  },
  {
   "cell_type": "code",
   "execution_count": null,
   "id": "fe0f2ad9-0bd3-4cec-8318-8fcc042a0cbe",
   "metadata": {},
   "outputs": [],
   "source": []
  }
 ],
 "metadata": {
  "kernelspec": {
   "display_name": "Python 3 (ipykernel)",
   "language": "python",
   "name": "python3"
  },
  "language_info": {
   "codemirror_mode": {
    "name": "ipython",
    "version": 3
   },
   "file_extension": ".py",
   "mimetype": "text/x-python",
   "name": "python",
   "nbconvert_exporter": "python",
   "pygments_lexer": "ipython3",
   "version": "3.11.5"
  }
 },
 "nbformat": 4,
 "nbformat_minor": 5
}
